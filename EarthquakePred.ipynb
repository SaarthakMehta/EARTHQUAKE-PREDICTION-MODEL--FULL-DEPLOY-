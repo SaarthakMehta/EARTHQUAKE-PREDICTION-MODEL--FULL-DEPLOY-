{
 "cells": [
  {
   "cell_type": "code",
   "execution_count": 10,
   "metadata": {},
   "outputs": [
    {
     "name": "stderr",
     "output_type": "stream",
     "text": [
      "C:\\Users\\Saarthak\\anaconda3\\lib\\site-packages\\sklearn\\base.py:434: FutureWarning: The default value of multioutput (not exposed in score method) will change from 'variance_weighted' to 'uniform_average' in 0.23 to keep consistent with 'metrics.r2_score'. To specify the default value manually and avoid the warning, please either call 'metrics.r2_score' directly or make a custom scorer with 'metrics.make_scorer' (the built-in scorer 'r2' uses multioutput='uniform_average').\n",
      "  \"multioutput='uniform_average').\", FutureWarning)\n"
     ]
    }
   ],
   "source": [
    "import matplotlib.pyplot as plt\n",
    "import pandas as pd\n",
    "import numpy as np\n",
    "import pickle\n",
    "\n",
    "raw_data=pd.read_csv('database1.csv')\n",
    "\n",
    "raw_data\n",
    "\n",
    "raw_data.describe(include='all')\n",
    "\n",
    "# date, time, Latitude, longitude, type, mag, type, id, source, location source, Mag source, Status\n",
    "data= raw_data.drop(['Time','Date', 'Type','Magnitude Type' , 'ID','Source','Location Source','Magnitude Source','Status'],axis=1)\n",
    "\n",
    "data.head()\n",
    "\n",
    "\n",
    "data.isnull().sum()\n",
    "\n",
    "data1= data.drop(['Horizontal Distance','Horizontal Error','Magnitude Error','Azimuthal Gap','Depth Error','Magnitude Seismic Stations','Depth Seismic Stations','Root Mean Square'],axis=1)\n",
    "\n",
    "data1.describe()\n",
    "\n",
    "data1.isnull().sum()\n",
    "\n",
    "\n",
    "new_data=data1.sample(frac=1).reset_index(drop=True)\n",
    "\n",
    "x=new_data.drop(['Magnitude','Depth'],axis=1)\n",
    "y=new_data[['Magnitude','Depth']]\n",
    "\n",
    "from sklearn.model_selection import train_test_split as tts\n",
    "\n",
    "train_x,test_x,train_y,test_y=tts(x,y,random_state=10,train_size=0.75,test_size=0.25)\n",
    "\n",
    "from sklearn.metrics import r2_score\n",
    "\n",
    "from sklearn.ensemble import RandomForestRegressor\n",
    "\n",
    "reg = RandomForestRegressor(random_state=42)\n",
    "reg.fit(train_x, train_y)\n",
    "k=reg.predict(test_x)\n",
    "\n",
    "reg.score(test_x,test_y)\n",
    "\n",
    "pickle.dump(reg, open('model.pkl','wb'))\n",
    "\n",
    "#Loading model to compare the results\n",
    "model = pickle.load(open('model.pkl','rb'))\n",
    "print(model.predict([[2, 9]]))\n",
    "\n"
   ]
  },
  {
   "cell_type": "code",
   "execution_count": 12,
   "metadata": {},
   "outputs": [
    {
     "name": "stdout",
     "output_type": "stream",
     "text": [
      "[[ 5.948 24.798]]\n"
     ]
    }
   ],
   "source": [
    "#import bz2\n",
    "#with bz2.BZ2File('test.pbz2', 'w') as f:\n",
    " #          pickle.dump(reg, f)\n",
    "#model = bz2.BZ2File('test.pbz2', 'rb')\n",
    "#model = pickle.load(model)\n",
    "print(model.predict([[2, 9]]))\n"
   ]
  },
  {
   "cell_type": "code",
   "execution_count": null,
   "metadata": {},
   "outputs": [],
   "source": []
  }
 ],
 "metadata": {
  "kernelspec": {
   "display_name": "Python 3",
   "language": "python",
   "name": "python3"
  },
  "language_info": {
   "codemirror_mode": {
    "name": "ipython",
    "version": 3
   },
   "file_extension": ".py",
   "mimetype": "text/x-python",
   "name": "python",
   "nbconvert_exporter": "python",
   "pygments_lexer": "ipython3",
   "version": "3.7.6"
  }
 },
 "nbformat": 4,
 "nbformat_minor": 4
}
